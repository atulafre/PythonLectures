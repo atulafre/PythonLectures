{
 "cells": [
  {
   "cell_type": "markdown",
   "metadata": {},
   "source": [
    "# Setup"
   ]
  },
  {
   "cell_type": "markdown",
   "metadata": {},
   "source": [
    "This tutorial requires the following packages:\n",
    "\n",
    "* Python 3\n",
    "* numpy: http://www.numpy.org/\n",
    "* pandas: http://pandas.pydata.org\n",
    "* scipy: http://www.scipy.org/\n",
    "* matplotlib: http://matplotlib.org/\n",
    "* scikit-learn: http://scikit-learn.org\n",
    "* jupyter: http://ipython.org\n",
    "* seaborn: https://seaborn.pydata.org\n",
    "\n",
    "The following command will install all required packages:\n",
    "\n",
    "```bash\n",
    "$ pip install numpy pandas scipy matplotlib sklearn jupyter seaborn\n",
    "```\n",
    "\n",
    "You can run the following code to check the versions of the packages on your system:"
   ]
  },
  {
   "cell_type": "code",
   "execution_count": 7,
   "metadata": {
    "ExecuteTime": {
     "end_time": "2020-06-19T14:14:45.381760Z",
     "start_time": "2020-06-19T14:14:45.371717Z"
    }
   },
   "outputs": [
    {
     "name": "stdout",
     "output_type": "stream",
     "text": [
      "IPython: 7.13.0\n",
      "numpy: 1.18.3\n",
      "pandas: 1.0.3\n",
      "scipy: 1.4.1\n",
      "matplotlib: 3.2.1\n",
      "sklearn: 0.22.2.post1\n",
      "jupyter: 1.0.0\n",
      "seaborn: 0.10.1\n"
     ]
    }
   ],
   "source": [
    "import IPython\n",
    "print('IPython:', IPython.__version__)\n",
    "\n",
    "import numpy\n",
    "print('numpy:', numpy.__version__)\n",
    "\n",
    "import pandas\n",
    "print('pandas:', pandas.__version__)\n",
    "\n",
    "import scipy\n",
    "print('scipy:', scipy.__version__)\n",
    "\n",
    "import matplotlib\n",
    "print('matplotlib:', matplotlib.__version__)\n",
    "\n",
    "import sklearn\n",
    "print('sklearn:', sklearn.__version__)\n",
    "\n",
    "import jupyter\n",
    "print('jupyter:', jupyter.__version__)\n",
    "\n",
    "import seaborn\n",
    "print('seaborn:', seaborn.__version__)"
   ]
  },
  {
   "cell_type": "markdown",
   "metadata": {},
   "source": [
    "# About scikit-learn\n",
    "\n",
    "[scikit-learn](http://scikit-learn.org) is a Python package designed to give access to well-known machine learning algorithms within Python code, through a clean, well-thought-out API. It has been built by hundreds of contributors from around the world, and is used across industry and academia.\n",
    "\n",
    "scikit-learn is built upon Python's [NumPy](http://www.numpy.org/) (Numerical Python) and [SciPy](http://www.scipy.org/) (Scientific Python) libraries, which enable efficient in-core numerical and scientific computation within Python. As such, scikit-learn is not specifically designed for extremely large datasets, though there is some work in this area."
   ]
  },
  {
   "cell_type": "markdown",
   "metadata": {},
   "source": [
    "# What is machine learning?\n",
    "\n",
    "**Machine learning** is about building programs with **tunable parameters** (typically an array of floating point values) that are adjusted automatically so as to improve their behavior by **adapting to previously seen data**.\n",
    "\n",
    "Machine Learning can be considered a subfield of **artificial intelligence** since those algorithms can be seen as building blocks to make computers learn to behave more intelligently by somehow **generalizing** rather that **just storing and retrieving** data items like a database system would do."
   ]
  },
  {
   "cell_type": "code",
   "execution_count": null,
   "metadata": {},
   "outputs": [],
   "source": []
  },
  {
   "cell_type": "code",
   "execution_count": null,
   "metadata": {},
   "outputs": [],
   "source": []
  }
 ],
 "metadata": {
  "kernelspec": {
   "display_name": "Python 3",
   "language": "python",
   "name": "python3"
  },
  "language_info": {
   "codemirror_mode": {
    "name": "ipython",
    "version": 3
   },
   "file_extension": ".py",
   "mimetype": "text/x-python",
   "name": "python",
   "nbconvert_exporter": "python",
   "pygments_lexer": "ipython3",
   "version": "3.7.7"
  }
 },
 "nbformat": 4,
 "nbformat_minor": 4
}
