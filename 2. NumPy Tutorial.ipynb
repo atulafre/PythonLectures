{
 "cells": [
  {
   "cell_type": "code",
   "execution_count": 1,
   "metadata": {
    "ExecuteTime": {
     "end_time": "2020-06-24T09:04:06.794273Z",
     "start_time": "2020-06-24T09:04:06.697856Z"
    }
   },
   "outputs": [],
   "source": [
    "# This line configures matplotlib to show figures embedded in the notebook, \n",
    "# instead of opening a new window for each figure.\n",
    "%matplotlib inline\n",
    "import matplotlib.pyplot as plt"
   ]
  },
  {
   "cell_type": "markdown",
   "metadata": {},
   "source": [
    "# Introduction\n",
    "\n",
    "**NumPy**, short for **Num**erical **Py**thon, is used in almost all numerical computation using Python. The `numpy`package provides high-performance vector, matrix and higher-dimensional data structures for Python. It is implemented in C and Fortran so when calculations are vectorized (formulated with vectors and matrices), performance is very good.\n"
   ]
  },
  {
   "cell_type": "markdown",
   "metadata": {},
   "source": [
    "> Many users use pandas to perform statistics and analytics over data, especially if rewpresented in tabular format. pandas provides some domain-specific functionalities like time series manipulation, not present in NumPy."
   ]
  },
  {
   "cell_type": "markdown",
   "metadata": {},
   "source": [
    "To use NumPy, you need to import the `numpy` module, using for example:"
   ]
  },
  {
   "cell_type": "code",
   "execution_count": 2,
   "metadata": {
    "ExecuteTime": {
     "end_time": "2020-06-24T09:04:06.803720Z",
     "start_time": "2020-06-24T09:04:06.797900Z"
    }
   },
   "outputs": [],
   "source": [
    "import numpy as np"
   ]
  },
  {
   "cell_type": "markdown",
   "metadata": {},
   "source": [
    "This import style is quite standard; all objects and functions the `numpy` package will now be invoked with the `np.` prefix."
   ]
  },
  {
   "cell_type": "markdown",
   "metadata": {},
   "source": [
    "NumPy is designed for efficiency on large arrays of data, as the following code reports."
   ]
  },
  {
   "cell_type": "code",
   "execution_count": 3,
   "metadata": {
    "ExecuteTime": {
     "end_time": "2020-06-24T09:04:07.900793Z",
     "start_time": "2020-06-24T09:04:06.810117Z"
    }
   },
   "outputs": [
    {
     "name": "stdout",
     "output_type": "stream",
     "text": [
      "CPU times: user 17.7 ms, sys: 17.3 ms, total: 35 ms\n",
      "Wall time: 35.3 ms\n",
      "CPU times: user 466 ms, sys: 163 ms, total: 630 ms\n",
      "Wall time: 635 ms\n"
     ]
    }
   ],
   "source": [
    "import numpy as np\n",
    "\n",
    "np_array = np.arange(1000000)\n",
    "p_list = list(range(1000000))\n",
    "\n",
    "%time for _ in range(10): np_array = np_array * 2\n",
    "%time for _ in range(10): p_list2 = [x * 2 for x in p_list]"
   ]
  },
  {
   "cell_type": "markdown",
   "metadata": {},
   "source": [
    "# Creating arrays\n",
    "\n",
    "In NumPy the key feature used for vectors, matrices and higher-dimensional data sets is the N-dimensional **array**, or **ndarray**. An array is a multi-dimensional container for homogeneous data, i.e., all elements must have the same type. \n",
    "\n",
    "There are a number of ways to initialize new NumPy arrays, for example\n",
    "* from a Python list or tuples;\n",
    "* using functions that are dedicated to generating `numpy` arrays, such as `arange`, `linspace`, etc.;\n",
    "* reading data from files\n",
    "\n",
    "## From lists\n",
    "\n",
    "For example, to create new vector and matrix arrays from Python lists we can use the `numpy.array` function:"
   ]
  },
  {
   "cell_type": "code",
   "execution_count": 178,
   "metadata": {
    "ExecuteTime": {
     "end_time": "2020-06-24T09:04:07.911576Z",
     "start_time": "2020-06-24T09:04:07.905452Z"
    }
   },
   "outputs": [
    {
     "name": "stdout",
     "output_type": "stream",
     "text": [
      "[1 2 3 4]\n"
     ]
    }
   ],
   "source": [
    "v = np.array([1,2,3,4])\n",
    "\n",
    "print(v)"
   ]
  },
  {
   "cell_type": "code",
   "execution_count": 179,
   "metadata": {
    "ExecuteTime": {
     "end_time": "2020-06-24T09:04:07.924087Z",
     "start_time": "2020-06-24T09:04:07.915668Z"
    }
   },
   "outputs": [
    {
     "name": "stdout",
     "output_type": "stream",
     "text": [
      "[[1 2]\n",
      " [3 4]]\n"
     ]
    }
   ],
   "source": [
    "M = np.array([[1, 2], [3, 4]])\n",
    "\n",
    "print(M)"
   ]
  },
  {
   "cell_type": "markdown",
   "metadata": {},
   "source": [
    "The `v` and `M` objects are both of the type `ndarray` that the `numpy` module provides."
   ]
  },
  {
   "cell_type": "code",
   "execution_count": 180,
   "metadata": {
    "ExecuteTime": {
     "end_time": "2020-06-24T09:04:07.940406Z",
     "start_time": "2020-06-24T09:04:07.927837Z"
    }
   },
   "outputs": [
    {
     "data": {
      "text/plain": [
       "(numpy.ndarray, numpy.ndarray)"
      ]
     },
     "execution_count": 180,
     "metadata": {},
     "output_type": "execute_result"
    }
   ],
   "source": [
    "type(v), type(M)"
   ]
  },
  {
   "cell_type": "markdown",
   "metadata": {},
   "source": [
    "The difference between the `v` and `M` arrays is only their **shapes**. We can get information about the shape of an array by using the `ndarray.shape` property or, equivalently, by using the function `np.shape`:"
   ]
  },
  {
   "cell_type": "code",
   "execution_count": 181,
   "metadata": {
    "ExecuteTime": {
     "end_time": "2020-06-24T09:04:07.961021Z",
     "start_time": "2020-06-24T09:04:07.948648Z"
    }
   },
   "outputs": [
    {
     "name": "stdout",
     "output_type": "stream",
     "text": [
      "(4,)\n",
      "(4,)\n",
      "(2, 2)\n",
      "(2, 2)\n"
     ]
    }
   ],
   "source": [
    "print(v.shape)\n",
    "print(np.shape(v))\n",
    "\n",
    "print(M.shape)\n",
    "print(np.shape(M))"
   ]
  },
  {
   "cell_type": "markdown",
   "metadata": {},
   "source": [
    "Note that a `ndarray` of dimension 1 has a shape `(k,)` but it is considered as a vector with 1 row and k\n",
    "columns.\n",
    "\n",
    "The number of elements in the array is available through the `ndarray.size` property or, equivalently, by using the function `np.size`:"
   ]
  },
  {
   "cell_type": "code",
   "execution_count": 182,
   "metadata": {
    "ExecuteTime": {
     "end_time": "2020-06-24T09:04:07.987119Z",
     "start_time": "2020-06-24T09:04:07.972241Z"
    }
   },
   "outputs": [
    {
     "name": "stdout",
     "output_type": "stream",
     "text": [
      "4\n",
      "4\n",
      "4\n",
      "4\n"
     ]
    }
   ],
   "source": [
    "print(v.size)\n",
    "print(np.size(v))\n",
    "\n",
    "print(M.size)\n",
    "print(np.size(M))"
   ]
  },
  {
   "cell_type": "markdown",
   "metadata": {},
   "source": [
    "The number of dimensions in the array is available through the `ndarray.ndim` property or, equivalently, by using the function `np.ndim`:"
   ]
  },
  {
   "cell_type": "code",
   "execution_count": 183,
   "metadata": {
    "ExecuteTime": {
     "end_time": "2020-06-24T09:04:08.002547Z",
     "start_time": "2020-06-24T09:04:07.994047Z"
    }
   },
   "outputs": [
    {
     "name": "stdout",
     "output_type": "stream",
     "text": [
      "1\n",
      "1\n",
      "2\n",
      "2\n"
     ]
    }
   ],
   "source": [
    "print(v.ndim)\n",
    "print(np.ndim(v))\n",
    "\n",
    "print(M.ndim)\n",
    "print(np.ndim(M))"
   ]
  },
  {
   "cell_type": "markdown",
   "metadata": {},
   "source": [
    "So far an ndarray looks awefully much like a Python list (or nested list). Why not simply use Python lists for computations instead of creating a new array type?\n",
    "\n",
    "There are several reasons:\n",
    "* Python lists are very general. They can contain *any kind of object*. They are *dynamically typed*. They do not support mathematical functions such as matrix and dot multiplications, etc. Implementing such functions for Python lists would *not be very efficient* because of the dynamic typing.\n",
    "* Numpy arrays are **statically typed** and **homogeneous**. The type of the elements is determined when the array is created.\n",
    "* Numpy arrays are **memory efficient**.\n",
    "\n",
    "Because of the static typing, fast implementation of mathematical functions such as multiplication and addition of numpy arrays can be implemented in a compiled language (C and Fortran is used)."
   ]
  },
  {
   "cell_type": "markdown",
   "metadata": {},
   "source": [
    "Using the `dtype` (data type) property of an `ndarray`, we can see what type the data of an array has:"
   ]
  },
  {
   "cell_type": "code",
   "execution_count": 184,
   "metadata": {
    "ExecuteTime": {
     "end_time": "2020-06-24T09:04:08.018889Z",
     "start_time": "2020-06-24T09:04:08.007929Z"
    }
   },
   "outputs": [
    {
     "name": "stdout",
     "output_type": "stream",
     "text": [
      "int64\n"
     ]
    }
   ],
   "source": [
    "print(M.dtype)"
   ]
  },
  {
   "cell_type": "markdown",
   "metadata": {},
   "source": [
    "We get an error if we try to assign a value of the wrong type to an element in a `numpy` array.\n",
    "\n",
    "We can explicitly define the type of the array data when we create it, using the `dtype`keyword argument:"
   ]
  },
  {
   "cell_type": "code",
   "execution_count": 185,
   "metadata": {
    "ExecuteTime": {
     "end_time": "2020-06-24T09:04:08.036074Z",
     "start_time": "2020-06-24T09:04:08.024426Z"
    }
   },
   "outputs": [
    {
     "name": "stdout",
     "output_type": "stream",
     "text": [
      "[[1.+0.j 2.+0.j]\n",
      " [3.+0.j 4.+0.j]]\n"
     ]
    }
   ],
   "source": [
    "M = np.array([[1, 2], [3, 4]], dtype=complex)\n",
    "\n",
    "print(M)"
   ]
  },
  {
   "cell_type": "markdown",
   "metadata": {},
   "source": [
    "Common data types that can be used with dtype are: `int`, `float`, `complex`, `bool`, `object`, etc.\n",
    "We can also explicitly define the bit size of the data types, for example: `int64`, `int16`, `float128`, `complex128`."
   ]
  },
  {
   "cell_type": "markdown",
   "metadata": {},
   "source": [
    "You can explicitely convert of *cast* an array from a dtype to anothed using the `np.astype` function:"
   ]
  },
  {
   "cell_type": "code",
   "execution_count": 186,
   "metadata": {
    "ExecuteTime": {
     "end_time": "2020-06-24T09:04:08.052911Z",
     "start_time": "2020-06-24T09:04:08.039480Z"
    }
   },
   "outputs": [
    {
     "name": "stdout",
     "output_type": "stream",
     "text": [
      "int64\n",
      "[1 2 3 4 5]\n",
      "float16\n",
      "[1. 2. 3. 4. 5.]\n"
     ]
    }
   ],
   "source": [
    "a = np.array([1, 2, 3, 4, 5])\n",
    "print(a.dtype)\n",
    "print(a)\n",
    "\n",
    "fa = a.astype(np.float16)\n",
    "print(fa.dtype)\n",
    "print(fa)"
   ]
  },
  {
   "cell_type": "markdown",
   "metadata": {},
   "source": [
    "## Using array-generating functions\n",
    "\n",
    "For larger arrays it is inpractical to initialize the data manually, using explicit python lists. Instead we can use one of the many functions in `numpy` that generate arrays of different forms. Some of the more common are:"
   ]
  },
  {
   "cell_type": "markdown",
   "metadata": {},
   "source": [
    "**arange**"
   ]
  },
  {
   "cell_type": "code",
   "execution_count": 187,
   "metadata": {
    "ExecuteTime": {
     "end_time": "2020-06-24T09:04:08.071617Z",
     "start_time": "2020-06-24T09:04:08.059883Z"
    }
   },
   "outputs": [
    {
     "name": "stdout",
     "output_type": "stream",
     "text": [
      "[0 1 2 3 4 5 6 7 8 9]\n",
      "[-1.00000000e+00 -9.00000000e-01 -8.00000000e-01 -7.00000000e-01\n",
      " -6.00000000e-01 -5.00000000e-01 -4.00000000e-01 -3.00000000e-01\n",
      " -2.00000000e-01 -1.00000000e-01 -2.22044605e-16  1.00000000e-01\n",
      "  2.00000000e-01  3.00000000e-01  4.00000000e-01  5.00000000e-01\n",
      "  6.00000000e-01  7.00000000e-01  8.00000000e-01  9.00000000e-01]\n"
     ]
    }
   ],
   "source": [
    "x = np.arange(0, 10, 1) # arguments: start, stop, step\n",
    "print(x)\n",
    "\n",
    "y = np.arange(-1, 1, 0.1)\n",
    "print(y)"
   ]
  },
  {
   "cell_type": "markdown",
   "metadata": {},
   "source": [
    "**linspace** and **logspace**"
   ]
  },
  {
   "cell_type": "code",
   "execution_count": 188,
   "metadata": {
    "ExecuteTime": {
     "end_time": "2020-06-24T09:04:08.102512Z",
     "start_time": "2020-06-24T09:04:08.076751Z"
    }
   },
   "outputs": [
    {
     "name": "stdout",
     "output_type": "stream",
     "text": [
      "[ 0.          0.41666667  0.83333333  1.25        1.66666667  2.08333333\n",
      "  2.5         2.91666667  3.33333333  3.75        4.16666667  4.58333333\n",
      "  5.          5.41666667  5.83333333  6.25        6.66666667  7.08333333\n",
      "  7.5         7.91666667  8.33333333  8.75        9.16666667  9.58333333\n",
      " 10.        ]\n",
      "[1.00000000e+00 3.03773178e+00 9.22781435e+00 2.80316249e+01\n",
      " 8.51525577e+01 2.58670631e+02 7.85771994e+02 2.38696456e+03\n",
      " 7.25095809e+03 2.20264658e+04]\n"
     ]
    }
   ],
   "source": [
    "x = np.linspace(0, 10, 25)\n",
    "print(x)\n",
    "\n",
    "y = np.logspace(0, 10, 10, base=np.e)\n",
    "print(y)"
   ]
  },
  {
   "cell_type": "markdown",
   "metadata": {},
   "source": [
    "**random** data"
   ]
  },
  {
   "cell_type": "code",
   "execution_count": 189,
   "metadata": {
    "ExecuteTime": {
     "end_time": "2020-06-24T09:04:08.119774Z",
     "start_time": "2020-06-24T09:04:08.106387Z"
    }
   },
   "outputs": [
    {
     "name": "stdout",
     "output_type": "stream",
     "text": [
      "[[0.93712811 0.74879012 0.38040147 0.539559   0.59775979]\n",
      " [0.63645827 0.26684308 0.7222307  0.25734948 0.06778759]\n",
      " [0.7688009  0.7098656  0.29127684 0.36333113 0.00132204]\n",
      " [0.96079942 0.42408265 0.64480219 0.39604629 0.42748111]\n",
      " [0.92139113 0.06411075 0.20393848 0.19149444 0.42697575]]\n",
      "[[ 0.53384868 -1.77089385  1.47949756]\n",
      " [-0.87517459 -0.09204117 -0.49854636]\n",
      " [ 0.8640698   0.06710405 -0.26366291]]\n"
     ]
    }
   ],
   "source": [
    "from numpy import random\n",
    "\n",
    "# uniform random numbers in [0,1]\n",
    "x = random.rand(5, 5)\n",
    "print(x)\n",
    "\n",
    "# standard normal distributed random numbers\n",
    "y = random.randn(3, 3)\n",
    "print(y)"
   ]
  },
  {
   "cell_type": "markdown",
   "metadata": {},
   "source": [
    "**eye**, **diag**, **zeros** and **ones**"
   ]
  },
  {
   "cell_type": "code",
   "execution_count": 190,
   "metadata": {
    "ExecuteTime": {
     "end_time": "2020-06-24T09:04:08.172100Z",
     "start_time": "2020-06-24T09:04:08.124605Z"
    }
   },
   "outputs": [
    {
     "name": "stdout",
     "output_type": "stream",
     "text": [
      "[[1. 0. 0.]\n",
      " [0. 1. 0.]\n",
      " [0. 0. 1.]]\n",
      "[[1 0 0]\n",
      " [0 2 0]\n",
      " [0 0 3]]\n",
      "[[0. 0. 0.]\n",
      " [0. 0. 0.]\n",
      " [0. 0. 0.]]\n",
      "[[1. 1. 1.]\n",
      " [1. 1. 1.]\n",
      " [1. 1. 1.]]\n"
     ]
    }
   ],
   "source": [
    "x = np.eye(3)\n",
    "print(x)\n",
    "\n",
    "x = np.diag([1,2,3])\n",
    "print(x)\n",
    "\n",
    "y = np.zeros((3,3))\n",
    "print(y)\n",
    "\n",
    "z = np.ones((3,3))\n",
    "print(z)"
   ]
  },
  {
   "cell_type": "markdown",
   "metadata": {},
   "source": [
    "There are several NumPy functions for [creating arrays](https://docs.scipy.org/doc/numpy/user/quickstart.html#array-creation):\n",
    "\n",
    "| Function | Description |\n",
    "| ---: | :--- |\n",
    "| `np.array(a)` | Create $n$-dimensional NumPy array from sequence `a` |\n",
    "| `np.linspace(a,b,N)` | Create 1D NumPy array with `N` equally spaced values from `a` to `b` (inclusively)|\n",
    "| `np.arange(a,b,step)` | Create 1D NumPy array with values from `a` to `b` (exclusively) incremented by `step`|\n",
    "| `np.zeros(N)` | Create 1D NumPy array of zeros of length $N$ |\n",
    "| `np.zeros((n,m))` | Create 2D NumPy array of zeros with $n$ rows and $m$ columns |\n",
    "| `np.ones(N)` | Create 1D NumPy array of ones of length $N$ |\n",
    "| `np.ones((n,m))` | Create 2D NumPy array of ones with $n$ rows and $m$ columns |\n",
    "| `np.eye(N)` | Create 2D NumPy array with $N$ rows and $N$ columns with ones on the diagonal (ie. the identity matrix of size $N$) |"
   ]
  },
  {
   "cell_type": "markdown",
   "metadata": {},
   "source": [
    "## Reading data from files\n",
    "\n",
    "A very common file format for data files is *comma-separated values* (CSV), or related formats such as *tab-separated values* (TSV). To read data from such files into `numpy` arrays we can use the `np.genfromtxt` function. For example:"
   ]
  },
  {
   "cell_type": "code",
   "execution_count": 191,
   "metadata": {
    "ExecuteTime": {
     "end_time": "2020-06-24T09:04:08.717026Z",
     "start_time": "2020-06-24T09:04:08.177499Z"
    }
   },
   "outputs": [],
   "source": [
    "data = np.genfromtxt('data/stockholm_td_adj.tsv')"
   ]
  },
  {
   "cell_type": "code",
   "execution_count": 192,
   "metadata": {
    "ExecuteTime": {
     "end_time": "2020-06-24T09:04:08.726208Z",
     "start_time": "2020-06-24T09:04:08.719615Z"
    }
   },
   "outputs": [
    {
     "name": "stdout",
     "output_type": "stream",
     "text": [
      "(77431, 7)\n"
     ]
    }
   ],
   "source": [
    "print(np.shape(data))"
   ]
  },
  {
   "cell_type": "code",
   "execution_count": 193,
   "metadata": {
    "ExecuteTime": {
     "end_time": "2020-06-24T09:04:09.032268Z",
     "start_time": "2020-06-24T09:04:08.730831Z"
    }
   },
   "outputs": [
    {
     "data": {
      "image/png": "[encoded data removed]",
      "text/plain": [
       "<Figure size 1008x288 with 1 Axes>"
      ]
     },
     "metadata": {
      "needs_background": "light"
     },
     "output_type": "display_data"
    }
   ],
   "source": [
    "fig, ax = plt.subplots(figsize=(14,4))\n",
    "\n",
    "ax.plot(data[:,0] + data[:,1]/12.0 + data[:,2]/365, data[:,5])\n",
    "\n",
    "ax.axis('tight')\n",
    "ax.set_title('tempeatures in Stockholm')\n",
    "ax.set_xlabel('year')\n",
    "ax.set_ylabel('temperature (C)');"
   ]
  },
  {
   "cell_type": "markdown",
   "metadata": {},
   "source": [
    "Using `np.savetxt` we can store a `numpy` array to a file in CSV format:"
   ]
  },
  {
   "cell_type": "code",
   "execution_count": 194,
   "metadata": {
    "ExecuteTime": {
     "end_time": "2020-06-24T09:04:09.043780Z",
     "start_time": "2020-06-24T09:04:09.034741Z"
    }
   },
   "outputs": [],
   "source": [
    "M = random.rand(3,3)\n",
    "\n",
    "np.savetxt(\"data/random-matrix1.csv\", M)\n",
    "\n",
    "np.savetxt(\"data/random-matrix2.csv\", M, fmt='%.5f') # fmt specifies the format"
   ]
  },
  {
   "cell_type": "markdown",
   "metadata": {},
   "source": [
    "# Manipulating arrays\n",
    "\n",
    "## Indexing\n",
    "\n",
    "We can index elements in an array using square brackets and indices:"
   ]
  },
  {
   "cell_type": "code",
   "execution_count": 195,
   "metadata": {
    "ExecuteTime": {
     "end_time": "2020-06-24T09:04:09.055146Z",
     "start_time": "2020-06-24T09:04:09.047281Z"
    }
   },
   "outputs": [
    {
     "name": "stdout",
     "output_type": "stream",
     "text": [
      "1\n",
      "0.5091657737884723\n"
     ]
    }
   ],
   "source": [
    "# v is a vector, and has only one dimension, taking one index\n",
    "print(v[0])\n",
    "\n",
    "# M is a matrix, or a 2 dimensional array, taking two indices \n",
    "print(M[1,1])"
   ]
  },
  {
   "cell_type": "markdown",
   "metadata": {},
   "source": [
    "If we omit an index of a multidimensional array it returns, in general, a N-1 dimensional array:"
   ]
  },
  {
   "cell_type": "code",
   "execution_count": 196,
   "metadata": {
    "ExecuteTime": {
     "end_time": "2020-06-24T09:04:09.071055Z",
     "start_time": "2020-06-24T09:04:09.061406Z"
    }
   },
   "outputs": [
    {
     "name": "stdout",
     "output_type": "stream",
     "text": [
      "[[0.54637072 0.61035093 0.5347052 ]\n",
      " [0.54705373 0.50916577 0.04862202]\n",
      " [0.63603638 0.87133417 0.41561053]]\n",
      "[0.54705373 0.50916577 0.04862202]\n"
     ]
    }
   ],
   "source": [
    "print(M)\n",
    "\n",
    "print(M[1]) # row 1"
   ]
  },
  {
   "cell_type": "markdown",
   "metadata": {},
   "source": [
    "The same thing can be achieved with using `:` instead of an index:"
   ]
  },
  {
   "cell_type": "code",
   "execution_count": 197,
   "metadata": {
    "ExecuteTime": {
     "end_time": "2020-06-24T09:04:09.108113Z",
     "start_time": "2020-06-24T09:04:09.092285Z"
    }
   },
   "outputs": [
    {
     "name": "stdout",
     "output_type": "stream",
     "text": [
      "[0.54705373 0.50916577 0.04862202]\n",
      "[0.61035093 0.50916577 0.87133417]\n"
     ]
    }
   ],
   "source": [
    "print(M[1,:]) # row 1\n",
    "print(M[:,1]) # column 1"
   ]
  },
  {
   "cell_type": "markdown",
   "metadata": {},
   "source": [
    "We can assign new values to elements in an array using indexing:"
   ]
  },
  {
   "cell_type": "code",
   "execution_count": 198,
   "metadata": {
    "ExecuteTime": {
     "end_time": "2020-06-24T09:04:09.136940Z",
     "start_time": "2020-06-24T09:04:09.117860Z"
    }
   },
   "outputs": [
    {
     "name": "stdout",
     "output_type": "stream",
     "text": [
      "[[1.         0.61035093 0.5347052 ]\n",
      " [0.54705373 0.50916577 0.04862202]\n",
      " [0.63603638 0.87133417 0.41561053]]\n",
      "[[1.         0.61035093 0.5347052 ]\n",
      " [0.         0.         0.        ]\n",
      " [0.63603638 0.87133417 0.41561053]]\n",
      "[[ 1.          0.61035093 -1.        ]\n",
      " [ 0.          0.         -1.        ]\n",
      " [ 0.63603638  0.87133417 -1.        ]]\n"
     ]
    }
   ],
   "source": [
    "M[0,0] = 1\n",
    "print(M)\n",
    "\n",
    "# also works for rows and columns using lists or ndarrays\n",
    "M[1,:] = [0, 0, 0]\n",
    "print(M)\n",
    "\n",
    "M[:,2] = np.array([-1, -1, -1])\n",
    "print(M)"
   ]
  },
  {
   "cell_type": "markdown",
   "metadata": {},
   "source": [
    "## Index slicing\n",
    "\n",
    "**Index slicing** is the technical name for the syntax `M[lower:upper:step]` to extract parts of an array:"
   ]
  },
  {
   "cell_type": "code",
   "execution_count": 199,
   "metadata": {
    "ExecuteTime": {
     "end_time": "2020-06-24T09:04:09.158930Z",
     "start_time": "2020-06-24T09:04:09.141463Z"
    }
   },
   "outputs": [
    {
     "name": "stdout",
     "output_type": "stream",
     "text": [
      "[2 3]\n"
     ]
    }
   ],
   "source": [
    "A = np.array([1, 2, 3, 4, 5])\n",
    "\n",
    "print(A[1:3])"
   ]
  },
  {
   "cell_type": "markdown",
   "metadata": {},
   "source": [
    "An important distinction between Python's lists and NumPy's arrays is that array slices are **views** on the original array. This means that no data is copied, and any modification to the view will be reflected by the original array. That is, **array slices are mutable**: if they are assigned a new value the original array from which the slice was extracted is modified:"
   ]
  },
  {
   "cell_type": "code",
   "execution_count": 200,
   "metadata": {
    "ExecuteTime": {
     "end_time": "2020-06-24T09:04:09.179671Z",
     "start_time": "2020-06-24T09:04:09.171566Z"
    }
   },
   "outputs": [
    {
     "name": "stdout",
     "output_type": "stream",
     "text": [
      "[ 1 -2 -3  4  5]\n"
     ]
    }
   ],
   "source": [
    "A[1:3] = [-2,-3]\n",
    "\n",
    "print(A)"
   ]
  },
  {
   "cell_type": "markdown",
   "metadata": {},
   "source": [
    "If we want to avoid this behavior, so that when we get a new completely independent object B copied from A, then we need to do a so-called \"**deep copy**\" using the function `copy`:"
   ]
  },
  {
   "cell_type": "code",
   "execution_count": 238,
   "metadata": {
    "ExecuteTime": {
     "end_time": "2020-06-24T09:25:45.906017Z",
     "start_time": "2020-06-24T09:25:45.895872Z"
    }
   },
   "outputs": [],
   "source": [
    "B = np.copy(A)"
   ]
  },
  {
   "cell_type": "markdown",
   "metadata": {},
   "source": [
    "We can omit any of the three parameters in `M[lower:upper:step]`:"
   ]
  },
  {
   "cell_type": "code",
   "execution_count": 201,
   "metadata": {
    "ExecuteTime": {
     "end_time": "2020-06-24T09:04:09.190362Z",
     "start_time": "2020-06-24T09:04:09.183763Z"
    }
   },
   "outputs": [
    {
     "name": "stdout",
     "output_type": "stream",
     "text": [
      "[ 1 -2 -3  4  5]\n",
      "[ 1 -3  5]\n",
      "[ 1 -2 -3]\n",
      "[4 5]\n"
     ]
    }
   ],
   "source": [
    "print(A[::])  # lower, upper, step all take the default values\n",
    "print(A[::2]) # step is 2, lower and upper defaults to the beginning and end of the array\n",
    "print(A[:3])  # first three elements\n",
    "print(A[3:])  # elements from index 3 to the end"
   ]
  },
  {
   "cell_type": "markdown",
   "metadata": {},
   "source": [
    "Negative indices counts from the end of the array (positive index from the begining):"
   ]
  },
  {
   "cell_type": "code",
   "execution_count": 202,
   "metadata": {
    "ExecuteTime": {
     "end_time": "2020-06-24T09:04:09.198651Z",
     "start_time": "2020-06-24T09:04:09.192899Z"
    }
   },
   "outputs": [
    {
     "name": "stdout",
     "output_type": "stream",
     "text": [
      "5\n",
      "[3 4 5]\n"
     ]
    }
   ],
   "source": [
    "A = np.array([1,2,3,4,5])\n",
    "\n",
    "print(A[-1])\n",
    "print(A[-3:])"
   ]
  },
  {
   "cell_type": "markdown",
   "metadata": {},
   "source": [
    "Index slicing works exactly the same way for multidimensional arrays:"
   ]
  },
  {
   "cell_type": "code",
   "execution_count": 203,
   "metadata": {
    "ExecuteTime": {
     "end_time": "2020-06-24T09:04:09.209997Z",
     "start_time": "2020-06-24T09:04:09.202128Z"
    }
   },
   "outputs": [
    {
     "name": "stdout",
     "output_type": "stream",
     "text": [
      "[[ 0  1  2  3  4]\n",
      " [10 11 12 13 14]\n",
      " [20 21 22 23 24]\n",
      " [30 31 32 33 34]\n",
      " [40 41 42 43 44]]\n",
      "[[11 12 13]\n",
      " [21 22 23]\n",
      " [31 32 33]]\n"
     ]
    }
   ],
   "source": [
    "A = np.array([[n + m * 10 for n in range(5)] for m in range(5)])\n",
    "\n",
    "print(A)\n",
    "\n",
    "# a block from the original array\n",
    "print(A[1:4, 1:4])"
   ]
  },
  {
   "cell_type": "markdown",
   "metadata": {},
   "source": [
    "## Fancy indexing\n",
    "\n",
    "**Fancy indexing** is the name for when an integer array or list is used in-place of an index:"
   ]
  },
  {
   "cell_type": "code",
   "execution_count": 204,
   "metadata": {
    "ExecuteTime": {
     "end_time": "2020-06-24T09:04:09.218407Z",
     "start_time": "2020-06-24T09:04:09.212680Z"
    }
   },
   "outputs": [
    {
     "name": "stdout",
     "output_type": "stream",
     "text": [
      "[[10 11 12 13 14]\n",
      " [20 21 22 23 24]\n",
      " [30 31 32 33 34]]\n"
     ]
    }
   ],
   "source": [
    "row_indices = [1, 2, 3]\n",
    "print(A[row_indices])"
   ]
  },
  {
   "cell_type": "code",
   "execution_count": 205,
   "metadata": {
    "ExecuteTime": {
     "end_time": "2020-06-24T09:04:09.227058Z",
     "start_time": "2020-06-24T09:04:09.221197Z"
    }
   },
   "outputs": [
    {
     "name": "stdout",
     "output_type": "stream",
     "text": [
      "[11 22 34]\n"
     ]
    }
   ],
   "source": [
    "col_indices = [1, 2, -1] # remember, index -1 means the last element\n",
    "print(A[row_indices, col_indices])"
   ]
  },
  {
   "cell_type": "markdown",
   "metadata": {},
   "source": [
    "Selecting data from an array by fancy indexing *always creates a copy fo the data*."
   ]
  },
  {
   "cell_type": "markdown",
   "metadata": {},
   "source": [
    "## Boolean indexing\n",
    "\n",
    "We can also use **index masks**: if the index mask is an `numpy` array of data type `bool`, then an element is selected (`True`) or not (`False`) depending on the value of the index mask at the position of each element:"
   ]
  },
  {
   "cell_type": "code",
   "execution_count": 206,
   "metadata": {
    "ExecuteTime": {
     "end_time": "2020-06-24T09:04:09.239887Z",
     "start_time": "2020-06-24T09:04:09.231122Z"
    }
   },
   "outputs": [
    {
     "name": "stdout",
     "output_type": "stream",
     "text": [
      "[0 1 2 3 4]\n",
      "[0 2]\n",
      "[0 2]\n"
     ]
    }
   ],
   "source": [
    "B = np.array([n for n in range(5)])\n",
    "print(B)\n",
    "\n",
    "row_mask = np.array([True, False, True, False, False])\n",
    "print(B[row_mask])\n",
    "\n",
    "# same thing\n",
    "row_mask = np.array([1,0,1,0,0], dtype=bool)\n",
    "print(B[row_mask])"
   ]
  },
  {
   "cell_type": "markdown",
   "metadata": {},
   "source": [
    "This feature is very useful to conditionally select elements from an array, using for example comparison operators:"
   ]
  },
  {
   "cell_type": "code",
   "execution_count": 207,
   "metadata": {
    "ExecuteTime": {
     "end_time": "2020-06-24T09:04:09.248406Z",
     "start_time": "2020-06-24T09:04:09.243146Z"
    }
   },
   "outputs": [
    {
     "name": "stdout",
     "output_type": "stream",
     "text": [
      "[0.  0.5 1.  1.5 2.  2.5 3.  3.5 4.  4.5 5.  5.5 6.  6.5 7.  7.5 8.  8.5\n",
      " 9.  9.5]\n"
     ]
    }
   ],
   "source": [
    "x = np.arange(0, 10, 0.5)\n",
    "print(x)"
   ]
  },
  {
   "cell_type": "code",
   "execution_count": 208,
   "metadata": {
    "ExecuteTime": {
     "end_time": "2020-06-24T09:04:09.258110Z",
     "start_time": "2020-06-24T09:04:09.251773Z"
    }
   },
   "outputs": [
    {
     "name": "stdout",
     "output_type": "stream",
     "text": [
      "[False False False False False False False False False False False  True\n",
      "  True  True  True False False False False False]\n"
     ]
    }
   ],
   "source": [
    "mask = (5 < x) & (x < 7.5)\n",
    "print(mask)"
   ]
  },
  {
   "cell_type": "markdown",
   "metadata": {},
   "source": [
    "Selecting data from an array by boolean indexing *always creates a copy fo the data*."
   ]
  },
  {
   "cell_type": "markdown",
   "metadata": {},
   "source": [
    "> The Python keywords `not`, `and` and `or` do not work with boolean arrays. Use `~`, `&` and `|` instead."
   ]
  },
  {
   "cell_type": "code",
   "execution_count": 209,
   "metadata": {
    "ExecuteTime": {
     "end_time": "2020-06-24T09:04:09.266339Z",
     "start_time": "2020-06-24T09:04:09.260816Z"
    }
   },
   "outputs": [
    {
     "name": "stdout",
     "output_type": "stream",
     "text": [
      "[5.5 6.  6.5 7. ]\n"
     ]
    }
   ],
   "source": [
    "print(x[mask])"
   ]
  },
  {
   "cell_type": "markdown",
   "metadata": {},
   "source": [
    "## Functions for extracting data from arrays and creating arrays"
   ]
  },
  {
   "cell_type": "markdown",
   "metadata": {},
   "source": [
    "**where**: convert index mask to position index."
   ]
  },
  {
   "cell_type": "code",
   "execution_count": 210,
   "metadata": {
    "ExecuteTime": {
     "end_time": "2020-06-24T09:04:09.276490Z",
     "start_time": "2020-06-24T09:04:09.269570Z"
    }
   },
   "outputs": [
    {
     "name": "stdout",
     "output_type": "stream",
     "text": [
      "[False False False False False False False False False False False  True\n",
      "  True  True  True False False False False False]\n",
      "[5.5 6.  6.5 7. ]\n",
      "(array([11, 12, 13, 14]),)\n",
      "[5.5 6.  6.5 7. ]\n"
     ]
    }
   ],
   "source": [
    "print(mask)\n",
    "print(x[mask])\n",
    "\n",
    "indices = np.where(mask)\n",
    "\n",
    "print(indices)\n",
    "print(x[indices]) # this indexing is equivalent to the fancy indexing x[mask]"
   ]
  },
  {
   "cell_type": "markdown",
   "metadata": {},
   "source": [
    "**diag**: extract the diagonal and subdiagonals of an array."
   ]
  },
  {
   "cell_type": "code",
   "execution_count": 211,
   "metadata": {
    "ExecuteTime": {
     "end_time": "2020-06-24T09:04:09.287191Z",
     "start_time": "2020-06-24T09:04:09.279855Z"
    }
   },
   "outputs": [
    {
     "name": "stdout",
     "output_type": "stream",
     "text": [
      "[ 0 11 22 33 44]\n",
      "[10 21 32 43]\n"
     ]
    }
   ],
   "source": [
    "print(np.diag(A))\n",
    "print(np.diag(A,-1))"
   ]
  },
  {
   "cell_type": "markdown",
   "metadata": {},
   "source": [
    "**take**: similar to fancy indexing described above."
   ]
  },
  {
   "cell_type": "code",
   "execution_count": 212,
   "metadata": {
    "ExecuteTime": {
     "end_time": "2020-06-24T09:04:09.297961Z",
     "start_time": "2020-06-24T09:04:09.291538Z"
    }
   },
   "outputs": [
    {
     "name": "stdout",
     "output_type": "stream",
     "text": [
      "[-3 -2 -1  0  1  2]\n",
      "[-2  0  2]\n",
      "[-2  0  2]\n"
     ]
    }
   ],
   "source": [
    "v2 = np.arange(-3,3)\n",
    "print(v2)\n",
    "\n",
    "row_indices = [1, 3, 5]\n",
    "print(v2[row_indices]) # fancy indexing\n",
    "print(v2.take(row_indices))"
   ]
  },
  {
   "cell_type": "markdown",
   "metadata": {},
   "source": [
    "# Linear algebra\n",
    "\n",
    "**Vectorizing code** is the key to writing efficient numerical calculation with Python/Numpy. That means that as much as possible of a program should be formulated in terms of matrix and vector operations, like matrix-matrix multiplication.\n",
    "\n",
    "## Scalar-array operations\n",
    "\n",
    "We can use the usual arithmetic operators to multiply, add, subtract, and divide arrays with scalar numbers."
   ]
  },
  {
   "cell_type": "code",
   "execution_count": 213,
   "metadata": {
    "ExecuteTime": {
     "end_time": "2020-06-24T09:04:09.310160Z",
     "start_time": "2020-06-24T09:04:09.301575Z"
    }
   },
   "outputs": [
    {
     "name": "stdout",
     "output_type": "stream",
     "text": [
      "[1 2 3 4]\n",
      "[2 4 6 8]\n",
      "[[ 0  1  2  3  4]\n",
      " [10 11 12 13 14]\n",
      " [20 21 22 23 24]\n",
      " [30 31 32 33 34]\n",
      " [40 41 42 43 44]]\n",
      "[[ 0  2  4  6  8]\n",
      " [20 22 24 26 28]\n",
      " [40 42 44 46 48]\n",
      " [60 62 64 66 68]\n",
      " [80 82 84 86 88]]\n"
     ]
    }
   ],
   "source": [
    "print(v)\n",
    "print(v * 2)\n",
    "\n",
    "print(A)\n",
    "print(2 * A)"
   ]
  },
  {
   "cell_type": "markdown",
   "metadata": {},
   "source": [
    "## Element-wise array-array operations\n",
    "\n",
    "When we add, subtract, multiply and divide arrays with each other, **the default behaviour is element-wise operations**:"
   ]
  },
  {
   "cell_type": "code",
   "execution_count": 214,
   "metadata": {
    "ExecuteTime": {
     "end_time": "2020-06-24T09:04:09.324279Z",
     "start_time": "2020-06-24T09:04:09.316305Z"
    }
   },
   "outputs": [
    {
     "name": "stdout",
     "output_type": "stream",
     "text": [
      "[0 2 4 6 8]\n",
      "[[   0    1    4    9   16]\n",
      " [ 100  121  144  169  196]\n",
      " [ 400  441  484  529  576]\n",
      " [ 900  961 1024 1089 1156]\n",
      " [1600 1681 1764 1849 1936]]\n"
     ]
    }
   ],
   "source": [
    "v1 = np.arange(0, 5)\n",
    "\n",
    "print(v1 + v1) # element-wise addition\n",
    "print(A * A) # element-wise multiplication"
   ]
  },
  {
   "attachments": {},
   "cell_type": "markdown",
   "metadata": {},
   "source": [
    "## Broadcasting\n",
    "\n",
    "The term **broadcasting** describes how `numpy` treats arrays with *different shapes* during arithmetic operations. Subject to certain constraints, the smaller array is “broadcast” across the larger array so that they have compatible shapes.\n",
    "\n",
    "`numpy` operations are usually done on pairs of arrays on an element-by-element basis:"
   ]
  },
  {
   "cell_type": "code",
   "execution_count": 215,
   "metadata": {
    "ExecuteTime": {
     "end_time": "2020-06-24T09:04:09.339337Z",
     "start_time": "2020-06-24T09:04:09.329340Z"
    }
   },
   "outputs": [
    {
     "name": "stdout",
     "output_type": "stream",
     "text": [
      "[[ 0  1  2  3  4]\n",
      " [10 11 12 13 14]\n",
      " [20 21 22 23 24]\n",
      " [30 31 32 33 34]\n",
      " [40 41 42 43 44]]\n",
      "[0 1 2 3 4]\n"
     ]
    }
   ],
   "source": [
    "print(A)\n",
    "print(v1)"
   ]
  },
  {
   "cell_type": "code",
   "execution_count": 216,
   "metadata": {
    "ExecuteTime": {
     "end_time": "2020-06-24T09:04:09.351975Z",
     "start_time": "2020-06-24T09:04:09.344154Z"
    }
   },
   "outputs": [
    {
     "name": "stdout",
     "output_type": "stream",
     "text": [
      "(5, 5) (5,)\n"
     ]
    }
   ],
   "source": [
    "print(A.shape, v1.shape)"
   ]
  },
  {
   "cell_type": "code",
   "execution_count": 217,
   "metadata": {
    "ExecuteTime": {
     "end_time": "2020-06-24T09:04:09.368213Z",
     "start_time": "2020-06-24T09:04:09.357556Z"
    }
   },
   "outputs": [
    {
     "name": "stdout",
     "output_type": "stream",
     "text": [
      "[[  0   1   4   9  16]\n",
      " [  0  11  24  39  56]\n",
      " [  0  21  44  69  96]\n",
      " [  0  31  64  99 136]\n",
      " [  0  41  84 129 176]]\n",
      "[[  0   1   4   9  16]\n",
      " [  0  11  24  39  56]\n",
      " [  0  21  44  69  96]\n",
      " [  0  31  64  99 136]\n",
      " [  0  41  84 129 176]]\n"
     ]
    }
   ],
   "source": [
    "print(A * v1)\n",
    "print(v1 * A)"
   ]
  },
  {
   "attachments": {},
   "cell_type": "markdown",
   "metadata": {},
   "source": [
    "When operating on two arrays, `numpy` compares their shapes element-wise. It starts with the **trailing dimension**, and works its way forward. Two dimensions are compatible when:\n",
    "\n",
    "* they are equal, or\n",
    "* one of them is 1.\n",
    "\n",
    "Otherwise a `ValueError: frames are not aligned` exception is thrown.\n",
    "\n",
    "**Examples**"
   ]
  },
  {
   "cell_type": "code",
   "execution_count": 218,
   "metadata": {
    "ExecuteTime": {
     "end_time": "2020-06-24T09:04:09.387859Z",
     "start_time": "2020-06-24T09:04:09.376659Z"
    }
   },
   "outputs": [
    {
     "name": "stdout",
     "output_type": "stream",
     "text": [
      "(4,)\n",
      "(3, 1)\n",
      "[[11 12 13 14]\n",
      " [11 12 13 14]\n",
      " [11 12 13 14]]\n"
     ]
    }
   ],
   "source": [
    "x = np.array([1,2,3,4])\n",
    "print(x.shape)\n",
    "\n",
    "y = np.array([[10],[10],[10]])\n",
    "print(y.shape)\n",
    "\n",
    "print(x + y)"
   ]
  },
  {
   "cell_type": "markdown",
   "metadata": {
    "ExecuteTime": {
     "end_time": "2020-06-23T16:27:12.126707Z",
     "start_time": "2020-06-23T16:27:11.969734Z"
    }
   },
   "source": [
    "![Broadcasting](images/bc1.png)\n",
    "![Broadcasting](images/bc2.png)"
   ]
  },
  {
   "cell_type": "markdown",
   "metadata": {},
   "source": [
    "# Matrix Algebra\n",
    "\n",
    "What about matrix mutiplication? There are two ways. We can either use the `np.dot` function, which applies a matrix-matrix, matrix-vector, or inner vector multiplication to its two arguments:"
   ]
  },
  {
   "cell_type": "code",
   "execution_count": 219,
   "metadata": {
    "ExecuteTime": {
     "end_time": "2020-06-24T09:04:09.406474Z",
     "start_time": "2020-06-24T09:04:09.393766Z"
    }
   },
   "outputs": [
    {
     "name": "stdout",
     "output_type": "stream",
     "text": [
      "30\n",
      "[ 30 130 230 330 430]\n",
      "[300 310 320 330 340]\n",
      "[[ 300  310  320  330  340]\n",
      " [1300 1360 1420 1480 1540]\n",
      " [2300 2410 2520 2630 2740]\n",
      " [3300 3460 3620 3780 3940]\n",
      " [4300 4510 4720 4930 5140]]\n"
     ]
    }
   ],
   "source": [
    "print(np.dot(v1, v1))\n",
    "print(np.dot(A, v1))\n",
    "print(np.dot(v1, A))\n",
    "print(np.dot(A, A))"
   ]
  },
  {
   "cell_type": "markdown",
   "metadata": {},
   "source": [
    "Alternatively, we can cast the array objects to the type `matrix`. This changes the behavior of the standard arithmetic operators +, -, * to use matrix algebra."
   ]
  },
  {
   "cell_type": "code",
   "execution_count": 220,
   "metadata": {
    "ExecuteTime": {
     "end_time": "2020-06-24T09:04:09.424877Z",
     "start_time": "2020-06-24T09:04:09.413701Z"
    }
   },
   "outputs": [
    {
     "name": "stdout",
     "output_type": "stream",
     "text": [
      "[[ 0  1  2  3  4]\n",
      " [10 11 12 13 14]\n",
      " [20 21 22 23 24]\n",
      " [30 31 32 33 34]\n",
      " [40 41 42 43 44]]\n",
      "[[0]\n",
      " [1]\n",
      " [2]\n",
      " [3]\n",
      " [4]]\n"
     ]
    }
   ],
   "source": [
    "M = np.matrix(A)\n",
    "print(M)\n",
    "\n",
    "v = np.matrix(v1).T # make it a column vector\n",
    "print(v)"
   ]
  },
  {
   "cell_type": "code",
   "execution_count": 221,
   "metadata": {
    "ExecuteTime": {
     "end_time": "2020-06-24T09:04:09.450622Z",
     "start_time": "2020-06-24T09:04:09.438995Z"
    }
   },
   "outputs": [
    {
     "name": "stdout",
     "output_type": "stream",
     "text": [
      "[[30]]\n",
      "[[ 30]\n",
      " [130]\n",
      " [230]\n",
      " [330]\n",
      " [430]]\n",
      "[[ 300  310  320  330  340]\n",
      " [1300 1360 1420 1480 1540]\n",
      " [2300 2410 2520 2630 2740]\n",
      " [3300 3460 3620 3780 3940]\n",
      " [4300 4510 4720 4930 5140]]\n"
     ]
    }
   ],
   "source": [
    "print(v.T * v) # v.T denotes the transpose of v\n",
    "print(M * v)\n",
    "print(M * M)"
   ]
  },
  {
   "cell_type": "markdown",
   "metadata": {},
   "source": [
    "If we try to add, subtract or multiply objects with incomplatible shapes we get an error."
   ]
  },
  {
   "cell_type": "markdown",
   "metadata": {},
   "source": [
    "## Array/Matrix transformations\n",
    "\n",
    "Above we have used the `.T` to transpose the matrix object `v`. We could also have used the `transpose` function to accomplish the same thing.\n",
    "\n",
    "Other mathematical functions that transform matrix objects are:\n"
   ]
  },
  {
   "cell_type": "code",
   "execution_count": 222,
   "metadata": {
    "ExecuteTime": {
     "end_time": "2020-06-24T09:04:09.483096Z",
     "start_time": "2020-06-24T09:04:09.459112Z"
    }
   },
   "outputs": [
    {
     "name": "stdout",
     "output_type": "stream",
     "text": [
      "[[0.+1.j 0.+2.j]\n",
      " [0.+3.j 0.+4.j]]\n",
      "[[0.-1.j 0.-2.j]\n",
      " [0.-3.j 0.-4.j]]\n",
      "[[0.-1.j 0.-3.j]\n",
      " [0.-2.j 0.-4.j]]\n",
      "[[0. 0.]\n",
      " [0. 0.]]\n",
      "[[1. 2.]\n",
      " [3. 4.]]\n",
      "[[1. 2.]\n",
      " [3. 4.]]\n",
      "[[0.78539816 1.10714872]\n",
      " [1.24904577 1.32581766]]\n"
     ]
    }
   ],
   "source": [
    "C = np.matrix([[1j, 2j], [3j, 4j]])\n",
    "print(C)\n",
    "\n",
    "print(np.conjugate(C))\n",
    "\n",
    "print(C.H)\n",
    "\n",
    "print(np.real(C)) # same as: C.real\n",
    "\n",
    "print(np.imag(C)) # same as: C.imag\n",
    "\n",
    "print(np.abs(C))\n",
    "\n",
    "print(np.angle(1 + C))"
   ]
  },
  {
   "cell_type": "markdown",
   "metadata": {},
   "source": [
    "## Matrix computations"
   ]
  },
  {
   "cell_type": "markdown",
   "metadata": {},
   "source": [
    "**inverse**:"
   ]
  },
  {
   "cell_type": "code",
   "execution_count": 223,
   "metadata": {
    "ExecuteTime": {
     "end_time": "2020-06-24T09:04:09.495866Z",
     "start_time": "2020-06-24T09:04:09.487871Z"
    }
   },
   "outputs": [
    {
     "name": "stdout",
     "output_type": "stream",
     "text": [
      "[[0.+2.j  0.-1.j ]\n",
      " [0.-1.5j 0.+0.5j]]\n"
     ]
    }
   ],
   "source": [
    "print(np.linalg.inv(C))"
   ]
  },
  {
   "cell_type": "markdown",
   "metadata": {},
   "source": [
    "**determinant**:"
   ]
  },
  {
   "cell_type": "code",
   "execution_count": 224,
   "metadata": {
    "ExecuteTime": {
     "end_time": "2020-06-24T09:04:09.512789Z",
     "start_time": "2020-06-24T09:04:09.501126Z"
    }
   },
   "outputs": [
    {
     "name": "stdout",
     "output_type": "stream",
     "text": [
      "(2.0000000000000004+0j)\n"
     ]
    }
   ],
   "source": [
    "print(np.linalg.det(C))"
   ]
  },
  {
   "cell_type": "markdown",
   "metadata": {},
   "source": [
    "# Data processing\n",
    "\n",
    "Often it is useful to store datasets in `numpy` arrays. `numpy` provides a number of functions to calculate statistics of datasets in arrays. These functions are called **universal functions**, or *ufunc*s, and they perform element-wise operations on data in ndarrays."
   ]
  },
  {
   "cell_type": "markdown",
   "metadata": {},
   "source": [
    "**sqrt** and **exp**:"
   ]
  },
  {
   "cell_type": "code",
   "execution_count": 232,
   "metadata": {
    "ExecuteTime": {
     "end_time": "2020-06-24T09:06:23.204198Z",
     "start_time": "2020-06-24T09:06:23.193627Z"
    }
   },
   "outputs": [
    {
     "name": "stdout",
     "output_type": "stream",
     "text": [
      "[1.         1.41421356 1.73205081 2.         2.23606798 2.44948974\n",
      " 2.64575131 2.82842712 3.         3.16227766]\n",
      "[2.71828183e+00 7.38905610e+00 2.00855369e+01 5.45981500e+01\n",
      " 1.48413159e+02 4.03428793e+02 1.09663316e+03 2.98095799e+03\n",
      " 8.10308393e+03 2.20264658e+04]\n"
     ]
    }
   ],
   "source": [
    "print(np.sqrt(data[:10,2]))\n",
    "print(np.exp(data[:10,2]))"
   ]
  },
  {
   "cell_type": "markdown",
   "metadata": {},
   "source": [
    "**mean**:"
   ]
  },
  {
   "cell_type": "code",
   "execution_count": 123,
   "metadata": {
    "ExecuteTime": {
     "end_time": "2020-06-23T16:41:22.668399Z",
     "start_time": "2020-06-23T16:41:22.659635Z"
    }
   },
   "outputs": [
    {
     "name": "stdout",
     "output_type": "stream",
     "text": [
      "6.197109684751585\n"
     ]
    }
   ],
   "source": [
    "print(np.mean(data[:,3]))"
   ]
  },
  {
   "cell_type": "markdown",
   "metadata": {},
   "source": [
    "**standard deviations** and **variance**:"
   ]
  },
  {
   "cell_type": "code",
   "execution_count": 125,
   "metadata": {
    "ExecuteTime": {
     "end_time": "2020-06-23T16:41:34.178662Z",
     "start_time": "2020-06-23T16:41:34.164735Z"
    }
   },
   "outputs": [
    {
     "name": "stdout",
     "output_type": "stream",
     "text": [
      "8.282271621340573 68.59602320966341\n"
     ]
    }
   ],
   "source": [
    "print(np.std(data[:,3]), np.var(data[:,3]))"
   ]
  },
  {
   "cell_type": "markdown",
   "metadata": {},
   "source": [
    "**min** and **max**:"
   ]
  },
  {
   "cell_type": "code",
   "execution_count": 233,
   "metadata": {
    "ExecuteTime": {
     "end_time": "2020-06-24T09:07:57.007785Z",
     "start_time": "2020-06-24T09:07:56.998001Z"
    }
   },
   "outputs": [
    {
     "name": "stdout",
     "output_type": "stream",
     "text": [
      "-25.8\n",
      "28.3\n"
     ]
    }
   ],
   "source": [
    "print(data[:,3].min())\n",
    "print(data[:,3].max())"
   ]
  },
  {
   "cell_type": "markdown",
   "metadata": {},
   "source": [
    "**argmin** and **argmax**:"
   ]
  },
  {
   "cell_type": "code",
   "execution_count": 237,
   "metadata": {
    "ExecuteTime": {
     "end_time": "2020-06-24T09:22:11.528828Z",
     "start_time": "2020-06-24T09:22:11.518744Z"
    }
   },
   "outputs": [
    {
     "name": "stdout",
     "output_type": "stream",
     "text": [
      "5\n",
      "0\n"
     ]
    }
   ],
   "source": [
    "a = np.array([1, 1, 6, 77, 8, 100, 4, 100])\n",
    "print(a.argmax())\n",
    "print(a.argmin())"
   ]
  },
  {
   "cell_type": "markdown",
   "metadata": {},
   "source": [
    "**sum** and **prod**:"
   ]
  },
  {
   "cell_type": "code",
   "execution_count": 128,
   "metadata": {
    "ExecuteTime": {
     "end_time": "2020-06-23T16:43:22.050384Z",
     "start_time": "2020-06-23T16:43:22.034406Z"
    },
    "scrolled": true
   },
   "outputs": [
    {
     "name": "stdout",
     "output_type": "stream",
     "text": [
      "[0 1 2 3 4 5 6 7 8 9]\n",
      "45\n",
      "3628800\n",
      "[ 0  1  3  6 10 15 21 28 36 45]\n",
      "[      1       2       6      24     120     720    5040   40320  362880\n",
      " 3628800]\n"
     ]
    }
   ],
   "source": [
    "d = np.arange(0, 10)\n",
    "print(d)\n",
    "\n",
    "# sum up all elements\n",
    "print(np.sum(d))\n",
    "# product of all elements\n",
    "print(np.prod(d + 1))\n",
    "# cummulative sum\n",
    "print(np.cumsum(d))\n",
    "# cummulative product\n",
    "print(np.cumprod(d + 1))"
   ]
  },
  {
   "cell_type": "markdown",
   "metadata": {
    "ExecuteTime": {
     "end_time": "2020-06-24T09:09:29.034656Z",
     "start_time": "2020-06-24T09:09:29.025291Z"
    }
   },
   "source": [
    "The following table contains a list of the most important unary ufuncs.\n",
    "\n",
    "|Function| Description |\n",
    "|:-------|:---------|\n",
    "|`abs`|Compute the absolute value element-wise for integer, floating-point, or complex values|\n",
    "|`sqrt`|Compute the square root of each element|\n",
    "|`exp`|Compute the exponent $e^x$ of each element|\n",
    "|`log`, `log10`, `log2`, `log1p`|Natural logarithm (base e), log base 10, log base 2, and log(1 + x), respectively|\n",
    "|`sign`|Compute the sign of each element: 1 (positive), 0 (zero), or –1 (negative)|\n",
    "|`ceil`|Compute the ceiling of each element|\n",
    "|`floor`|Compute the floor of each element|\n",
    "|`modf`|Return fractional and integral parts of array as a separate array|\n",
    "|`isnan`|Return boolean array indicating whether each value is `NaN` (Not a Number)|\n",
    "|`cos`, `cosh`, `sin`, `sinh`, `tan`, `tanh`|Regular and hyperbolic trigonometric functions|\n",
    "|`arccos`, `arccosh`, `arcsin`, `arcsinh`, `arctan`, `arctanh`|Inverse trigonometric functions|"
   ]
  },
  {
   "cell_type": "markdown",
   "metadata": {},
   "source": [
    "The following table contains a list of the most important binary ufuncs.\n",
    "\n",
    "|Function| Description |\n",
    "|:-------|:---------|\n",
    "|`add`|Element-wise addition|\n",
    "|`subtract`|Element-wise subtraction|\n",
    "|`multiply`|Element-wise multiplication|\n",
    "|`divide`|Element-wise division|\n",
    "|`mod`|Element-wise modulus|\n",
    "|`power`|Raise elements in first array to powers indicated in second array |\n",
    "|`maximum`, `fmax`|Element-wise maximum; `fmax` ignores `NaN`|\n",
    "|`minimum`, `fmin`|Element-wise minimum; `fmin` ignores `NaN`|"
   ]
  },
  {
   "cell_type": "markdown",
   "metadata": {},
   "source": [
    "## Calculations with higher-dimensional data\n",
    "\n",
    "When functions such as min, max, etc. are applied to a multidimensional arrays, it is sometimes useful to apply the calculation to the entire array, and sometimes only on a row or column basis. Using the `axis` argument we can specify how these functions should behave:"
   ]
  },
  {
   "cell_type": "code",
   "execution_count": 131,
   "metadata": {
    "ExecuteTime": {
     "end_time": "2020-06-23T16:47:01.526274Z",
     "start_time": "2020-06-23T16:47:01.512008Z"
    }
   },
   "outputs": [
    {
     "name": "stdout",
     "output_type": "stream",
     "text": [
      "[[0.75013982 0.25855643 0.20451342]\n",
      " [0.3395779  0.05939731 0.18313579]\n",
      " [0.41019777 0.84448317 0.73466085]]\n",
      "0.8444831703244384\n",
      "[0.75013982 0.84448317 0.73466085]\n",
      "[0.75013982 0.3395779  0.84448317]\n"
     ]
    }
   ],
   "source": [
    "M = np.random.rand(3,3)\n",
    "print(M)\n",
    "\n",
    "# global max\n",
    "print(M.max())\n",
    "\n",
    "# max in each column\n",
    "print(M.max(axis=0))\n",
    "\n",
    "# max in each row\n",
    "print(M.max(axis=1))"
   ]
  },
  {
   "cell_type": "markdown",
   "metadata": {},
   "source": [
    "Many other functions and methods in the `array` and `matrix` classes accept the same (optional) `axis` keyword argument.\n",
    "\n",
    "## Reshaping, resizing and stacking arrays\n",
    "\n",
    "The shape of an Numpy array can be modified without copying the underlaying data, which makes it a fast operation even for large arrays."
   ]
  },
  {
   "cell_type": "code",
   "execution_count": 135,
   "metadata": {
    "ExecuteTime": {
     "end_time": "2020-06-23T16:49:30.833710Z",
     "start_time": "2020-06-23T16:49:30.826817Z"
    }
   },
   "outputs": [
    {
     "name": "stdout",
     "output_type": "stream",
     "text": [
      "[[ 5  5  5  5  5]\n",
      " [10 11 12 13 14]\n",
      " [20 21 22 23 24]\n",
      " [30 31 32 33 34]\n",
      " [40 41 42 43 44]]\n"
     ]
    }
   ],
   "source": [
    "print(A)\n",
    "n, m = A.shape"
   ]
  },
  {
   "cell_type": "code",
   "execution_count": 136,
   "metadata": {
    "ExecuteTime": {
     "end_time": "2020-06-23T16:49:35.114441Z",
     "start_time": "2020-06-23T16:49:35.105184Z"
    }
   },
   "outputs": [
    {
     "name": "stdout",
     "output_type": "stream",
     "text": [
      "[[ 5  5  5  5  5 10 11 12 13 14 20 21 22 23 24 30 31 32 33 34 40 41 42 43\n",
      "  44]]\n"
     ]
    }
   ],
   "source": [
    "B = A.reshape((1, n * m))\n",
    "print(B)"
   ]
  },
  {
   "cell_type": "code",
   "execution_count": 138,
   "metadata": {
    "ExecuteTime": {
     "end_time": "2020-06-23T16:49:57.541930Z",
     "start_time": "2020-06-23T16:49:57.532230Z"
    }
   },
   "outputs": [
    {
     "name": "stdout",
     "output_type": "stream",
     "text": [
      "[[ 5  5  5  5  5 10 11 12 13 14 20 21 22 23 24 30 31 32 33 34 40 41 42 43\n",
      "  44]]\n"
     ]
    }
   ],
   "source": [
    "B[0, 0:5] = 5 # modify the array\n",
    "print(B)"
   ]
  },
  {
   "cell_type": "code",
   "execution_count": 139,
   "metadata": {
    "ExecuteTime": {
     "end_time": "2020-06-23T16:50:04.909981Z",
     "start_time": "2020-06-23T16:50:04.901987Z"
    }
   },
   "outputs": [
    {
     "name": "stdout",
     "output_type": "stream",
     "text": [
      "[[ 5  5  5  5  5]\n",
      " [10 11 12 13 14]\n",
      " [20 21 22 23 24]\n",
      " [30 31 32 33 34]\n",
      " [40 41 42 43 44]]\n"
     ]
    }
   ],
   "source": [
    "print(A) # and the original variable is also changed. B is only a different view of the same data"
   ]
  },
  {
   "cell_type": "markdown",
   "metadata": {},
   "source": [
    "We can also use the function `flatten` to make a higher-dimensional array into a vector. But this function create a **copy** of the data."
   ]
  },
  {
   "cell_type": "code",
   "execution_count": 140,
   "metadata": {
    "ExecuteTime": {
     "end_time": "2020-06-23T16:50:56.903607Z",
     "start_time": "2020-06-23T16:50:56.895078Z"
    }
   },
   "outputs": [
    {
     "name": "stdout",
     "output_type": "stream",
     "text": [
      "[ 5  5  5  5  5 10 11 12 13 14 20 21 22 23 24 30 31 32 33 34 40 41 42 43\n",
      " 44]\n"
     ]
    }
   ],
   "source": [
    "B = A.flatten()\n",
    "print(B)"
   ]
  },
  {
   "cell_type": "markdown",
   "metadata": {},
   "source": [
    "## Adding a new dimension\n",
    "\n",
    "With `np.newaxis`, we can insert new dimensions in an array, for example converting a vector to a column or row matrix:"
   ]
  },
  {
   "cell_type": "code",
   "execution_count": 146,
   "metadata": {
    "ExecuteTime": {
     "end_time": "2020-06-23T16:53:15.062564Z",
     "start_time": "2020-06-23T16:53:15.055109Z"
    }
   },
   "outputs": [
    {
     "name": "stdout",
     "output_type": "stream",
     "text": [
      "(3,)\n",
      "(3, 1)\n",
      "(1, 3)\n"
     ]
    }
   ],
   "source": [
    "v = np.array([1,2,3])\n",
    "print(v.shape)\n",
    "\n",
    "# make a column matrix of the vector v\n",
    "w = v[:, np.newaxis]\n",
    "print(w.shape)\n",
    "\n",
    "# make a row matrix of the vector v\n",
    "w = v[np.newaxis, :]\n",
    "print(w.shape)"
   ]
  },
  {
   "cell_type": "markdown",
   "metadata": {},
   "source": [
    "## Stacking and repeating arrays\n",
    "\n",
    "Using the functions `repeat`, `tile`, `vstack`, `hstack`, and `concatenate` we can create larger vectors and matrices from smaller ones.\n",
    "\n",
    "**tile** and **repeat**:"
   ]
  },
  {
   "cell_type": "code",
   "execution_count": 152,
   "metadata": {
    "ExecuteTime": {
     "end_time": "2020-06-23T16:55:44.731052Z",
     "start_time": "2020-06-23T16:55:44.724948Z"
    }
   },
   "outputs": [
    {
     "name": "stdout",
     "output_type": "stream",
     "text": [
      "[[1 2]\n",
      " [3 4]]\n"
     ]
    }
   ],
   "source": [
    "a = np.array([[1, 2], [3, 4]])\n",
    "print(a)"
   ]
  },
  {
   "cell_type": "code",
   "execution_count": 153,
   "metadata": {
    "ExecuteTime": {
     "end_time": "2020-06-23T16:55:45.671908Z",
     "start_time": "2020-06-23T16:55:45.659073Z"
    }
   },
   "outputs": [
    {
     "name": "stdout",
     "output_type": "stream",
     "text": [
      "[1 1 1 2 2 2 3 3 3 4 4 4]\n"
     ]
    }
   ],
   "source": [
    "# repeat each element 3 times\n",
    "print(np.repeat(a, 3))"
   ]
  },
  {
   "cell_type": "code",
   "execution_count": 154,
   "metadata": {
    "ExecuteTime": {
     "end_time": "2020-06-23T16:55:46.695374Z",
     "start_time": "2020-06-23T16:55:46.687146Z"
    }
   },
   "outputs": [
    {
     "name": "stdout",
     "output_type": "stream",
     "text": [
      "[[1 2 1 2 1 2]\n",
      " [3 4 3 4 3 4]]\n"
     ]
    }
   ],
   "source": [
    "# tile the matrix 3 times \n",
    "print(np.tile(a, 3))"
   ]
  },
  {
   "cell_type": "markdown",
   "metadata": {},
   "source": [
    "**concatenate**:"
   ]
  },
  {
   "cell_type": "code",
   "execution_count": 156,
   "metadata": {
    "ExecuteTime": {
     "end_time": "2020-06-23T16:56:36.307191Z",
     "start_time": "2020-06-23T16:56:36.300130Z"
    }
   },
   "outputs": [
    {
     "name": "stdout",
     "output_type": "stream",
     "text": [
      "[[5 6]]\n"
     ]
    }
   ],
   "source": [
    "b = np.array([[5, 6]])\n",
    "print(b)"
   ]
  },
  {
   "cell_type": "code",
   "execution_count": 158,
   "metadata": {
    "ExecuteTime": {
     "end_time": "2020-06-23T16:56:44.848269Z",
     "start_time": "2020-06-23T16:56:44.838116Z"
    }
   },
   "outputs": [
    {
     "name": "stdout",
     "output_type": "stream",
     "text": [
      "[[1 2]\n",
      " [3 4]\n",
      " [5 6]]\n"
     ]
    }
   ],
   "source": [
    "print(np.concatenate((a, b), axis=0))"
   ]
  },
  {
   "cell_type": "code",
   "execution_count": 159,
   "metadata": {
    "ExecuteTime": {
     "end_time": "2020-06-23T16:56:51.248589Z",
     "start_time": "2020-06-23T16:56:51.237734Z"
    }
   },
   "outputs": [
    {
     "name": "stdout",
     "output_type": "stream",
     "text": [
      "[[1 2 5]\n",
      " [3 4 6]]\n"
     ]
    }
   ],
   "source": [
    "print(np.concatenate((a, b.T), axis=1))"
   ]
  },
  {
   "cell_type": "markdown",
   "metadata": {},
   "source": [
    "**hstack** and **vstack**:"
   ]
  },
  {
   "cell_type": "code",
   "execution_count": 160,
   "metadata": {
    "ExecuteTime": {
     "end_time": "2020-06-23T16:57:06.881587Z",
     "start_time": "2020-06-23T16:57:06.870424Z"
    }
   },
   "outputs": [
    {
     "name": "stdout",
     "output_type": "stream",
     "text": [
      "[[1 2]\n",
      " [3 4]\n",
      " [5 6]]\n"
     ]
    }
   ],
   "source": [
    "print(np.vstack((a, b)))"
   ]
  },
  {
   "cell_type": "code",
   "execution_count": 161,
   "metadata": {
    "ExecuteTime": {
     "end_time": "2020-06-23T16:57:13.429944Z",
     "start_time": "2020-06-23T16:57:13.416895Z"
    }
   },
   "outputs": [
    {
     "name": "stdout",
     "output_type": "stream",
     "text": [
      "[[1 2 5]\n",
      " [3 4 6]]\n"
     ]
    }
   ],
   "source": [
    "print(np.hstack((a, b.T)))"
   ]
  },
  {
   "cell_type": "markdown",
   "metadata": {},
   "source": [
    "# Iterating over arrays\n",
    "\n",
    "In general, **avoid iterating over the elements of arrays whenever possible (at all costs)**. The reason is that in a interpreted language like Python iterations are really slow compared to vectorized operations."
   ]
  },
  {
   "cell_type": "code",
   "execution_count": null,
   "metadata": {},
   "outputs": [],
   "source": []
  }
 ],
 "metadata": {
  "kernelspec": {
   "display_name": "Python 3 (ipykernel)",
   "language": "python",
   "name": "python3"
  },
  "language_info": {
   "codemirror_mode": {
    "name": "ipython",
    "version": 3
   },
   "file_extension": ".py",
   "mimetype": "text/x-python",
   "name": "python",
   "nbconvert_exporter": "python",
   "pygments_lexer": "ipython3",
   "version": "3.11.6"
  }
 },
 "nbformat": 4,
 "nbformat_minor": 4
}
